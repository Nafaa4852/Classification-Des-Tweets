{
 "cells": [
  {
   "cell_type": "code",
   "execution_count": 11,
   "metadata": {},
   "outputs": [
    {
     "data": {
      "text/plain": [
       "<torch._C.Generator at 0x7ff1e50cc750>"
      ]
     },
     "execution_count": 11,
     "metadata": {},
     "output_type": "execute_result"
    }
   ],
   "source": [
    "import numpy as np\n",
    "import torch as th\n",
    "import torch.autograd as ag\n",
    "import torch.nn.functional as F\n",
    "import torch.nn as nn\n",
    "import csv\n",
    "th.manual_seed(1) # set the seed \n"
   ]
  },
  {
   "cell_type": "code",
   "execution_count": 12,
   "metadata": {
    "collapsed": true
   },
   "outputs": [],
   "source": [
    "fname = \"/home/nafaa/Documents/Projet_TER/Sentiment Analysis Dataset.csv\"\n",
    "file = open(fname, \"r\")\n",
    "labels= [] \n",
    "train = []\n",
    "\n",
    "   \n",
    "reader = csv.reader(file)\n",
    "\n",
    "for row in reader:\n",
    "       \n",
    "        train.append(row[3].lstrip().strip())\n",
    "        labels.append(row[1])\n",
    "#supprimer la colonne sentiment et sentiment text        \n",
    "train.remove('SentimentText')  \n",
    "labels.remove('Sentiment')   \n"
   ]
  },
  {
   "cell_type": "code",
   "execution_count": 15,
   "metadata": {
    "collapsed": true
   },
   "outputs": [],
   "source": [
    "#les 50 mille dernieres données pour le test \n",
    "train_test=train[-50000:]\n",
    "labels_test=labels[-50000:]\n",
    "# prendre 100 mille premières données pour l'apprentissage \n",
    "train=train[:100000]\n",
    "labels=labels[:100000]\n"
   ]
  },
  {
   "cell_type": "code",
   "execution_count": 16,
   "metadata": {
    "collapsed": true
   },
   "outputs": [],
   "source": [
    "#mettre les donnes dans un array \n",
    "train=np.asarray(train)\n",
    "labels=np.asarray(labels)\n"
   ]
  },
  {
   "cell_type": "code",
   "execution_count": 17,
   "metadata": {},
   "outputs": [
    {
     "name": "stdout",
     "output_type": "stream",
     "text": [
      "['@', 'pbonjour', 'monsieur']\n"
     ]
    }
   ],
   "source": [
    "#fonction pour séparer la phrase et avoir des mots \n",
    "def phrase_to_mot(x):\n",
    "    word=\"\"\n",
    "    word_list=[]\n",
    "    b=True\n",
    "    for i in range(len(x)): # à l'aid de la méthode isalpha on vérifie si c'est alphabet \n",
    "        if x[i].isalpha() or x[i]==\"@\" or x[i]==\"&\":\n",
    "            if b:\n",
    "                word=word+x[i]\n",
    "                if i+1==len(x):\n",
    "                    word_list.append(word)\n",
    "            else:\n",
    "                b=True\n",
    "                word= word+x[i]\n",
    "\n",
    "        else:\n",
    "            b=False\n",
    "            if word!=\"\":\n",
    "                word_list.append(word)\n",
    "            word=\"\"\n",
    "        if word==\"http\" or word==\"www\":\n",
    "            word_list.append(x)\n",
    "            break\n",
    "   \n",
    "    return word_list\n"
   ]
  },
  {
   "cell_type": "code",
   "execution_count": null,
   "metadata": {
    "collapsed": true
   },
   "outputs": [],
   "source": []
  },
  {
   "cell_type": "code",
   "execution_count": 18,
   "metadata": {},
   "outputs": [
    {
     "name": "stdout",
     "output_type": "stream",
     "text": [
      "118840\n"
     ]
    }
   ],
   "source": [
    "# dictionnaire contient tout les mots \n",
    "dic={}\n",
    "dic_inverse={}\n",
    "couts=[]\n",
    "k=0\n",
    "for sentense in train:\n",
    "    word_list=phrase_to_mot(sentense)\n",
    "    for word in word_list:\n",
    "        if word not in dic:\n",
    "            dic[word]=k\n",
    "            k+=1\n",
    "            dic_inverse[k]=word\n",
    "            couts.append(1)\n",
    "        else:\n",
    "            index=dic[word]\n",
    "            couts[index]+=1\n",
    "print(len(couts))"
   ]
  },
  {
   "cell_type": "code",
   "execution_count": 20,
   "metadata": {
    "collapsed": true
   },
   "outputs": [],
   "source": [
    "# un nouveau dictionnaire qui contient les mots qui apparait plus de 20 fois et moins de 10000 fois\n",
    "nouveau_dic={}\n",
    "nouveau_dic_inverse={}\n",
    "k=1\n",
    "for i in range(len(couts)):\n",
    "    if (couts[i]>20):\n",
    "        if (couts[i]<10000):\n",
    "            word=dic_inverse[i]\n",
    "            nouveau_dic[word]=k\n",
    "            nouveau_dic_inverse[k]=word\n",
    "            k+=1"
   ]
  },
  {
   "cell_type": "code",
   "execution_count": null,
   "metadata": {
    "collapsed": true
   },
   "outputs": [],
   "source": []
  },
  {
   "cell_type": "code",
   "execution_count": 21,
   "metadata": {},
   "outputs": [
    {
     "name": "stdout",
     "output_type": "stream",
     "text": [
      "la taille du vocabolaire est: 4121\n"
     ]
    }
   ],
   "source": [
    "vocab_size=0\n",
    "for k in couts:\n",
    "    if(k>20):\n",
    "        if (k<10000):\n",
    "            vocab_size+=1\n",
    "            \n",
    "print (\"la taille du vocabolaire est:\",vocab_size)"
   ]
  },
  {
   "cell_type": "code",
   "execution_count": 22,
   "metadata": {
    "collapsed": true
   },
   "outputs": [],
   "source": [
    "# fonction qui associé un nombre(la clé du mot dans le dictionnaire ) à chaque mot , si il n'existe pas dans le dictionnaire on le met 0\n",
    "def compte(sentense):\n",
    "    word_list=phrase_to_mot(sentense)\n",
    "    l=[]\n",
    "    for i in range(len(word_list)):\n",
    "        if word_list[i] in nouveau_dic:\n",
    "            k=nouveau_dic[word_list[i]]\n",
    "            if k not in l:\n",
    "                l.append(k)\n",
    "        else:\n",
    "            l.append(0)\n",
    "    return l"
   ]
  },
  {
   "cell_type": "code",
   "execution_count": 23,
   "metadata": {},
   "outputs": [
    {
     "name": "stdout",
     "output_type": "stream",
     "text": [
      "[4, 0, 5, 6, 7, 8]\n",
      "I missed the New Moon trailer...\n"
     ]
    }
   ],
   "source": [
    "print(compte(train[1]))\n",
    "print(train[1])"
   ]
  },
  {
   "cell_type": "code",
   "execution_count": 24,
   "metadata": {},
   "outputs": [
    {
     "name": "stdout",
     "output_type": "stream",
     "text": [
      "[list([1, 2, 0, 0, 0, 3, 0]) list([4, 0, 5, 6, 7, 8]) list([9, 10, 0]) ...\n",
      " list([0, 0, 1039, 27, 341, 52, 0, 18, 0, 0, 0, 34, 164, 53, 5, 0, 0, 0, 2, 603, 0, 0, 0])\n",
      " list([0, 0, 0, 0, 0, 0, 5, 0, 75, 0])\n",
      " list([0, 193, 0, 0, 495, 0, 0, 4, 0, 0, 0, 0, 0, 0, 48, 5, 0])]\n"
     ]
    }
   ],
   "source": [
    "#construire nouveau train et test , contient une list des tableaux convertie en entier  \n",
    "nouveau_train=[]\n",
    "nouveau_test=[]\n",
    "for tweet in train:\n",
    "    nouveau_train.append(compte(tweet))\n",
    "train1=np.asarray(nouveau_train)\n",
    "print(train1)\n",
    "\n",
    "for sentense in train_test:\n",
    "    nouveau_test.append(compte(sentense))\n",
    "test1=np.asarray(nouveau_test)"
   ]
  },
  {
   "cell_type": "code",
   "execution_count": 25,
   "metadata": {
    "collapsed": true
   },
   "outputs": [],
   "source": [
    "#convertir les labels en entier \n",
    "labels=np.asarray([int(y) for y in labels])\n",
    "labels_test=np.asarray([int (y ) for y in labels_test])"
   ]
  },
  {
   "cell_type": "code",
   "execution_count": null,
   "metadata": {
    "collapsed": true
   },
   "outputs": [],
   "source": [
    "# binarizer \n",
    "def convert_bin (sentence): \n",
    "    v = np.zeros([vocab_size])\n",
    "    for i in range(len(sentence)):\n",
    "        v[sentence[i]-1]=1 \n",
    "    return v\n",
    "\n",
    "\n",
    "\n",
    "def convert_corpus_bin(corpus):\n",
    "    M = np.zeros([len(corpus),vocab_size])\n",
    "    i=0\n",
    "    for x in corpus:\n",
    "        v = convert_bin(x)\n",
    "        M[i,:] = v\n",
    "        i+=1\n",
    "    return M\n",
    "\n",
    "#binarizer les valeaurs du tableau\n",
    "Vtrain = convert_corpus_bin(train1)\n",
    "\n",
    "Vtest = convert_corpus_bin(test1)"
   ]
  },
  {
   "cell_type": "code",
   "execution_count": 15,
   "metadata": {},
   "outputs": [
    {
     "name": "stderr",
     "output_type": "stream",
     "text": [
      "/home/nafaa/anaconda3/lib/python3.6/site-packages/h5py/__init__.py:34: FutureWarning: Conversion of the second argument of issubdtype from `float` to `np.floating` is deprecated. In future, it will be treated as `np.float64 == np.dtype(float).type`.\n",
      "  from ._conv import register_converters as _register_converters\n",
      "Using TensorFlow backend.\n",
      "/home/nafaa/anaconda3/lib/python3.6/site-packages/numexpr/cpuinfo.py:42: UserWarning: [Errno 12] Cannot allocate memory\n",
      "  warnings.warn(str(e), UserWarning, stacklevel=stacklevel)\n",
      "/home/nafaa/anaconda3/lib/python3.6/site-packages/ipykernel_launcher.py:4: UserWarning: Update your `Dense` call to the Keras 2 API: `Dense(input_dim=4121, units=100)`\n",
      "  after removing the cwd from sys.path.\n",
      "/home/nafaa/anaconda3/lib/python3.6/site-packages/ipykernel_launcher.py:6: UserWarning: Update your `Dense` call to the Keras 2 API: `Dense(units=1)`\n",
      "  \n"
     ]
    }
   ],
   "source": [
    "from keras.models import Sequential\n",
    "from keras.layers import Dense, Activation\n",
    "#Sequential parce que les couches de neurones vont être ajoutées séquentiellement.\n",
    "model = Sequential()\n",
    "#Dense parce que tous les neurones de couche précédente seront connectés à tous les neurones de la couche suivante. \n",
    "#input_dim nombre de variables prédictives\n",
    "model.add(Dense(output_dim=100,input_dim=vocab_size))\n",
    "model.add(Activation('relu'))\n",
    "#output_dim la variable du retour\n",
    "model.add(Dense(output_dim=1))\n",
    "model.add(Activation('sigmoid'))"
   ]
  },
  {
   "cell_type": "code",
   "execution_count": 26,
   "metadata": {
    "collapsed": true
   },
   "outputs": [],
   "source": [
    "model.compile(optimizer='adam',\n",
    "              loss='binary_crossentropy',\n",
    "              metrics=['accuracy'])"
   ]
  },
  {
   "cell_type": "code",
   "execution_count": 27,
   "metadata": {},
   "outputs": [
    {
     "name": "stderr",
     "output_type": "stream",
     "text": [
      "/home/youssef/anaconda3/lib/python3.6/site-packages/keras/models.py:942: UserWarning: The `nb_epoch` argument in `fit` has been renamed `epochs`.\n",
      "  warnings.warn('The `nb_epoch` argument in `fit` '\n"
     ]
    },
    {
     "name": "stdout",
     "output_type": "stream",
     "text": [
      "Train on 100000 samples, validate on 50000 samples\n",
      "Epoch 1/5\n",
      "100000/100000 [==============================] - 28s 281us/step - loss: 0.5799 - acc: 0.6947 - val_loss: 0.5796 - val_acc: 0.6943\n",
      "Epoch 2/5\n",
      "100000/100000 [==============================] - 28s 282us/step - loss: 0.5410 - acc: 0.7269 - val_loss: 0.5857 - val_acc: 0.6923\n",
      "Epoch 3/5\n",
      "100000/100000 [==============================] - 28s 281us/step - loss: 0.5099 - acc: 0.7490 - val_loss: 0.5923 - val_acc: 0.6934\n",
      "Epoch 4/5\n",
      "100000/100000 [==============================] - 28s 282us/step - loss: 0.4735 - acc: 0.7755 - val_loss: 0.6277 - val_acc: 0.6853\n",
      "Epoch 5/5\n",
      "100000/100000 [==============================] - 28s 284us/step - loss: 0.4325 - acc: 0.7994 - val_loss: 0.6414 - val_acc: 0.6898\n"
     ]
    }
   ],
   "source": [
    "#batch_size correspond aux nombre d’observations que l’on fait passer avant de remettre à jour les poids synaptiques.\n",
    "#nb_epoch est le nombre maximum d’itération\n",
    "history = model.fit(Vtrain, labels,\n",
    "        nb_epoch=5,\n",
    "        batch_size=32,\n",
    "        validation_data=(Vtest, labels_test))"
   ]
  },
  {
   "cell_type": "code",
   "execution_count": null,
   "metadata": {
    "collapsed": true
   },
   "outputs": [],
   "source": []
  }
 ],
 "metadata": {
  "kernelspec": {
   "display_name": "Python 3",
   "language": "python",
   "name": "python3"
  },
  "language_info": {
   "codemirror_mode": {
    "name": "ipython",
    "version": 3
   },
   "file_extension": ".py",
   "mimetype": "text/x-python",
   "name": "python",
   "nbconvert_exporter": "python",
   "pygments_lexer": "ipython3",
   "version": "3.6.3"
  }
 },
 "nbformat": 4,
 "nbformat_minor": 2
}
